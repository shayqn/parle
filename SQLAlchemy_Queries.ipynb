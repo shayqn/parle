{
 "cells": [
  {
   "cell_type": "markdown",
   "metadata": {},
   "source": [
    "# Converting the queries to flask-sqlalchemy"
   ]
  },
  {
   "cell_type": "code",
   "execution_count": 2,
   "metadata": {
    "collapsed": false
   },
   "outputs": [],
   "source": [
    "import sys\n",
    "import sys\n",
    "sys.path.append('/Users/shayneufeld/GitHub/parle')\n",
    "from models import db\n",
    "from models import *"
   ]
  },
  {
   "cell_type": "markdown",
   "metadata": {},
   "source": [
    "# get_pol_json \n",
    "def get_pol_json(politician_id):\n",
    "    \"\"\"\n",
    "    Returns all the data related to a single specific politician when a user requests their profile.\n",
    "    Anything we want in the profile has to be sent from here in JSON, so this is where all the magic happens.\n",
    "\n",
    "    Related React.js component: <ProfileBox />\n",
    "\n",
    "    :param politician_id: id of the single politician requested\n",
    "    :return: a jsonify'd dictionary with all the desired profile information\n",
    "    \"\"\"\n",
    "    # Get the cursor\n",
    "    cursor = get_cursor()\n",
    "\n",
    "    # Build our select query using data from bills_membervote, bills_votequestion, and bills_bill\n",
    "    # We are currently only interested in the final vote, so the bill description is used to identify those\n",
    "    # Add any parameters using (%s) or (%(name)s). More information below.\n",
    "    query = (\n",
    "        \"SELECT m.votequestion_id,m.vote,b.number,b.name_en,b.law,b.short_title_en, v.session_id \"\n",
    "        \"FROM bills_membervote m, bills_votequestion v, bills_bill b \"\n",
    "        \"WHERE m.politician_id = (%s) \"\n",
    "        \"AND v.id = m.votequestion_id \"\n",
    "        \"AND v.description_en LIKE (\\'%%Bill be now read a third time and do pass%%\\') \"\n",
    "        \"AND b.id = v.bill_id \"\n",
    "        \"ORDER BY v.date DESC\"\n",
    "    )\n",
    "    # If any parameters are used in the above query, insert them in the parameters tuple\n",
    "    # Insert parameters in the order used in the query unless using %(name)s placeholders\n",
    "    # see http://initd.org/psycopg/docs/usage.html#passing-parameters-to-sql-queries for more information\n",
    "    parameters = (politician_id,)\n",
    "\n",
    "    # Execute query\n",
    "    cursor.execute(query, parameters)\n",
    "\n",
    "    # Fetch results\n",
    "    pol_results = cursor.fetchall()\n",
    "\n",
    "    # return a JSON response to React (includes header, no extra work needed)\n",
    "    return jsonify(votes=pol_results)"
   ]
  },
  {
   "cell_type": "markdown",
   "metadata": {},
   "source": [
    "### Retrieve all members"
   ]
  },
  {
   "cell_type": "markdown",
   "metadata": {},
   "source": [
    "User.query.order_by(User.username)"
   ]
  },
  {
   "cell_type": "code",
   "execution_count": 94,
   "metadata": {
    "collapsed": false
   },
   "outputs": [],
   "source": [
    "a = Member.query.order_by(Member.name)"
   ]
  },
  {
   "cell_type": "code",
   "execution_count": 101,
   "metadata": {
    "collapsed": false,
    "scrolled": true
   },
   "outputs": [
    {
     "name": "stdout",
     "output_type": "stream",
     "text": [
      "Adam Vaughan\n",
      "Ahmed Hussen\n",
      "Alain Rayes\n",
      "Alaina Lockhart\n",
      "Alexander Nuttall\n",
      "Alexandra Mendès\n",
      "Alexandre Boulerice\n",
      "Ali Ehsassi\n",
      "Alice Wong\n",
      "Alistair MacGregor\n",
      "Alupa Clarke\n",
      "Amarjeet Sohi\n",
      "Andrew Leslie\n",
      "Andrew Scheer\n",
      "Andy Fillmore\n",
      "Angelo Iacono\n",
      "Anita Vandenbeld\n",
      "Anju Dhillon\n",
      "Anne Minh-Thu Quach\n",
      "Anthony Housefather\n",
      "Anthony Rota\n",
      "Arif Virani\n",
      "Arnold Chan\n",
      "Arnold Viersen\n",
      "Bardish Chagger\n",
      "Ben Lobb\n",
      "Bernadette Jordan\n",
      "Bernard Généreux\n",
      "Bev Shipley\n",
      "Bill Blair\n",
      "Bill Casey\n",
      "Bill Morneau\n",
      "Blaine Calkins\n",
      "Blake Richards\n",
      "Bob Bratina\n",
      "Bob Saroya\n",
      "Bob Zimmer\n",
      "Borys Wrzesnewskyj\n",
      "Brad Trost\n",
      "Brenda Shanahan\n",
      "Brian Masse\n",
      "Brigitte Sansoucy\n",
      "Bruce Stanton\n",
      "Bryan May\n",
      "Candice Bergen\n",
      "Carla Qualtrough\n",
      "Carol Hughes\n",
      "Carolyn Bennett\n",
      "Cathay Wagantall\n",
      "Catherine McKenna\n",
      "Cathy McLeod\n",
      "Celina Caesar-Chavannes\n",
      "Chandra Arya\n",
      "Charlie Angus\n",
      "Cheryl Gallant\n",
      "Cheryl Hardcastle\n",
      "Chris Bittle\n",
      "Chris Warkentin\n",
      "Christine Moore\n",
      "Chrystia Freeland\n",
      "Colin Carrie\n",
      "Colin Fraser\n",
      "Dan Albas\n",
      "Dan Ruimy\n",
      "Dan Vandal\n",
      "Daniel Blaikie\n",
      "Darrell Samson\n",
      "Darren Fisher\n",
      "Darshan Singh Kang\n",
      "Dave MacKenzie\n",
      "Dave Van Kesteren\n",
      "David Anderson\n",
      "David Christopherson\n",
      "David Lametti\n",
      "David McGuinty\n",
      "David Sweet\n",
      "David Tilson\n",
      "David Yurdiga\n",
      "David de Burgh Graham\n",
      "Dean Allison\n",
      "Deborah Schulte\n",
      "Deepak Obhrai\n",
      "Denis Lebel\n",
      "Denis Lemieux\n",
      "Denis Paradis\n",
      "Diane Finley\n",
      "Diane Lebouthillier\n",
      "Dianne L. Watts\n",
      "Dominic LeBlanc\n",
      "Don Davies\n",
      "Don Rusnak\n",
      "Doug Eyolfson\n",
      "Earl Dreeshen\n",
      "Ed Fast\n",
      "Elizabeth May\n",
      "Emmanuel Dubourg\n",
      "Erin O'Toole\n",
      "Erin Weir\n",
      "Eva Nassif\n",
      "Fayçal El-Khoury\n",
      "Filomena Tassi\n",
      "Fin Donnelly\n",
      "Francesco Sorbara\n",
      "Francis Drouin\n",
      "Francis Scarpaleggia\n",
      "Frank Baylis\n",
      "François Choquette\n",
      "François-Philippe Champagne\n",
      "Gabriel Ste-Marie\n",
      "Gagan Sikand\n",
      "Garnett Genuis\n",
      "Gary Anandasangaree\n",
      "Geng Tan\n",
      "Geoff Regan\n",
      "Georgina Jolibois\n",
      "Gerry Ritz\n",
      "Ginette Petitpas Taylor\n",
      "Gord Johns\n",
      "Gordon Brown\n",
      "Greg Fergus\n",
      "Gudie Hutchings\n",
      "Guy Caron\n",
      "Guy Lauzon\n",
      "Gérard Deltell\n",
      "Harjit S. Sajjan\n",
      "Harold Albrecht\n",
      "Hedy Fry\n",
      "Hunter Tootoo\n",
      "Hélène Laverdière\n",
      "Iqra Khalid\n",
      "Irene Mathyssen\n",
      "Jacques Gourde\n",
      "James Bezan\n",
      "James Maloney\n",
      "Jamie Schmale\n",
      "Jane Philpott\n",
      "Jason Kenney\n",
      "Jati Sidhu\n",
      "Jean Rioux\n",
      "Jean-Claude Poissant\n",
      "Jean-Yves Duclos\n",
      "Jennifer O'Connell\n",
      "Jenny Kwan\n",
      "Jim Carr\n",
      "Jim Eglinski\n",
      "Jim Hillyer\n",
      "Jody Wilson-Raybould\n",
      "Joe Peschisolido\n",
      "John Aldag\n",
      "John Barlow\n",
      "John Brassard\n",
      "John McCallum\n",
      "John McKay\n",
      "John Nater\n",
      "John Oliver\n",
      "Jonathan Wilkinson\n",
      "Joyce Murray\n",
      "Joël Godin\n",
      "Joël Lightbound\n",
      "Judy A. Sgro\n",
      "Judy Foote\n",
      "Julie Dabrusin\n",
      "Julie Dzerowicz\n",
      "Justin Trudeau\n",
      "K. Kellie Leitch\n",
      "Kamal Khera\n",
      "Karen Ludwig\n",
      "Karen McCrimmon\n",
      "Karen Vecchio\n",
      "Karina Gould\n",
      "Karine Trudel\n",
      "Kate Young\n",
      "Kelly Block\n",
      "Kelly McCauley\n",
      "Ken Hardie\n",
      "Ken McDonald\n",
      "Kennedy Stewart\n",
      "Kent Hehr\n",
      "Kerry Diotte\n",
      "Kevin Lamoureux\n",
      "Kevin Sorenson\n",
      "Kevin Waugh\n",
      "Kim Rudd\n",
      "Kirsty Duncan\n",
      "Kyle Peterson\n",
      "Larry Bagnell\n",
      "Larry Maguire\n",
      "Larry Miller\n",
      "Lawrence MacAulay\n",
      "Len Webber\n",
      "Leona Alleslev\n",
      "Linda Duncan\n",
      "Linda Lapointe\n",
      "Lisa Raitt\n",
      "Lloyd Longfield\n",
      "Louis Plamondon\n",
      "Luc Berthold\n",
      "Luc Thériault\n",
      "Majid Jowhari\n",
      "Marc Garneau\n",
      "Marc Miller\n",
      "Marc Serré\n",
      "Marco Mendicino\n",
      "Marie-Claude Bibeau\n",
      "Marilyn Gladu\n",
      "Marilène Gill\n",
      "Mario Beaulieu\n",
      "Marjolaine Boutin-Sweet\n",
      "Mark Eyking\n",
      "Mark Gerretsen\n",
      "Mark Holland\n",
      "Mark Strahl\n",
      "Mark Warawa\n",
      "Martin Shields\n",
      "Marwan Tabbara\n",
      "MaryAnn Mihychuk\n",
      "Maryam Monsef\n",
      "Matt DeCourcey\n",
      "Matt Jeneroux\n",
      "Matthew Dubé\n",
      "Mauril Bélanger\n",
      "Maxime Bernier\n",
      "Mel Arnold\n",
      "Michael Chong\n",
      "Michael Cooper\n",
      "Michael Levitt\n",
      "Michael McLeod\n",
      "Michel Boudrias\n",
      "Michel Picard\n",
      "Michelle Rempel\n",
      "Mike Bossio\n",
      "Mike Lake\n",
      "Monique Pauzé\n",
      "Murray Rankin\n",
      "Mélanie Joly\n",
      "Nathan Cullen\n",
      "Nathaniel Erskine-Smith\n",
      "Navdeep Bains\n",
      "Neil Ellis\n",
      "Nick Whalen\n",
      "Nicola Di Iorio\n",
      "Niki Ashton\n",
      "Omar Alghabra\n",
      "Pablo Rodriguez\n",
      "Pam Damoff\n",
      "Pam Goldsmith-Jones\n",
      "Pat Finnigan\n",
      "Pat Kelly\n",
      "Patty Hajdu\n",
      "Paul Lefebvre\n",
      "Peter Fonseca\n",
      "Peter Fragiskatos\n",
      "Peter Julian\n",
      "Peter Kent\n",
      "Peter Schiefke\n",
      "Peter Van Loan\n",
      "Phil McColeman\n",
      "Pierre Breton\n",
      "Pierre Nantel\n",
      "Pierre Paul-Hus\n",
      "Pierre Poilievre\n",
      "Pierre-Luc Dusseault\n",
      "Rachael Harder\n",
      "Rachel Blaney\n",
      "Raj Grewal\n",
      "Raj Saini\n",
      "Ralph Goodale\n",
      "Ramesh Sangha\n",
      "Ramez Ayoub\n",
      "Randall Garrison\n",
      "Randeep Sarai\n",
      "Randy Boissonnault\n",
      "Randy Hoback\n",
      "René Arseneault\n",
      "Rhéal Fortin\n",
      "Richard Cannings\n",
      "Rob Nicholson\n",
      "Robert Aubin\n",
      "Robert Kitchen\n",
      "Robert Morrissey\n",
      "Robert Nault\n",
      "Robert Oliphant\n",
      "Robert Sopuck\n",
      "Robert-Falcon Ouellette\n",
      "Rodger Cuzner\n",
      "Romeo Saganash\n",
      "Ron Liepert\n",
      "Ron McKinnon\n",
      "Rona Ambrose\n",
      "Ruby Sahota\n",
      "Ruth Ellen Brosseau\n",
      "Rémi Massé\n",
      "Salma Zahid\n",
      "Scott Brison\n",
      "Scott Duvall\n",
      "Scott Reid\n",
      "Scott Simms\n",
      "Seamus O'Regan\n",
      "Sean Casey\n",
      "Sean Fraser\n",
      "Serge Cormier\n",
      "Shannon Stubbs\n",
      "Shaun Chen\n",
      "Sheila Malcolmson\n",
      "Sheri Benson\n",
      "Sherry Romanado\n",
      "Simon Marcil\n",
      "Sonia Sidhu\n",
      "Stephen Fuhr\n",
      "Stephen Harper\n",
      "Steven Blaney\n",
      "Steven MacKinnon\n",
      "Stéphane Dion\n",
      "Stéphane Lauzon\n",
      "Sukh Dhaliwal\n",
      "Sven Spengemann\n",
      "Sylvie Boucher\n",
      "T.J. Harvey\n",
      "Ted Falk\n",
      "Terry Beech\n",
      "Terry Duguid\n",
      "Terry Sheehan\n",
      "Thomas Mulcair\n",
      "Todd Doherty\n",
      "Tom Kmiec\n",
      "Tom Lukiwski\n",
      "Tony Clement\n",
      "Tracey Ramsey\n",
      "Vance Badawey\n",
      "Wayne Easter\n",
      "Wayne Long\n",
      "Wayne Stetski\n",
      "William Amos\n",
      "Xavier Barsalou-Duval\n",
      "Yasmin Ratansi\n",
      "Yves Robillard\n",
      "Yvonne Jones\n",
      "Ziad Aboultaif\n"
     ]
    }
   ],
   "source": [
    "for member in a:\n",
    "    print(member.name)"
   ]
  },
  {
   "cell_type": "code",
   "execution_count": 3,
   "metadata": {
    "collapsed": true
   },
   "outputs": [],
   "source": [
    "members = Member.query.all()"
   ]
  },
  {
   "cell_type": "code",
   "execution_count": 12,
   "metadata": {
    "collapsed": false
   },
   "outputs": [
    {
     "data": {
      "text/plain": [
       "'/Parliamentarians/en/members/Ziad-Aboultaif(89156)'"
      ]
     },
     "execution_count": 12,
     "metadata": {},
     "output_type": "execute_result"
    }
   ],
   "source": [
    "members[0].url"
   ]
  },
  {
   "cell_type": "code",
   "execution_count": 33,
   "metadata": {
    "collapsed": false
   },
   "outputs": [
    {
     "ename": "TypeError",
     "evalue": "'NoneType' object is not callable",
     "output_type": "error",
     "traceback": [
      "\u001b[0;31m---------------------------------------------------------------------------\u001b[0m",
      "\u001b[0;31mTypeError\u001b[0m                                 Traceback (most recent call last)",
      "\u001b[0;32m<ipython-input-33-7bc7f87062d0>\u001b[0m in \u001b[0;36m<module>\u001b[0;34m()\u001b[0m\n\u001b[0;32m----> 1\u001b[0;31m \u001b[0mevents\u001b[0m \u001b[0;34m=\u001b[0m \u001b[0mEvent\u001b[0m\u001b[0;34m.\u001b[0m\u001b[0mquery\u001b[0m\u001b[0;34m.\u001b[0m\u001b[0mwhereclause\u001b[0m\u001b[0;34m(\u001b[0m\u001b[0;36m1\u001b[0m\u001b[0;34m==\u001b[0m\u001b[0;36m1\u001b[0m\u001b[0;34m)\u001b[0m\u001b[0;34m\u001b[0m\u001b[0m\n\u001b[0m",
      "\u001b[0;31mTypeError\u001b[0m: 'NoneType' object is not callable"
     ]
    }
   ],
   "source": [
    "'''\n",
    "in postgres DB              | in new db\n",
    "                            |\n",
    "1 member vote_question id   | event.id\n",
    "2 member vote               | event.id\n",
    "3 bill number               | bill.id or bill.number?\n",
    "4 bill name                 | bill.slug\n",
    "5 bill law                  | bill.number\n",
    "6 bill title                | bill.short_title\n",
    "7 vote session id           | event.session_id\n",
    "'''"
   ]
  },
  {
   "cell_type": "code",
   "execution_count": 116,
   "metadata": {
    "collapsed": false
   },
   "outputs": [],
   "source": [
    "events = Event.query.all()"
   ]
  },
  {
   "cell_type": "code",
   "execution_count": 119,
   "metadata": {
    "collapsed": false
   },
   "outputs": [
    {
     "name": "stdout",
     "output_type": "stream",
     "text": [
      "3rd reading and adoption of Bill C-9, An Act for granting to Her Majesty certain sums of money for the federal public administration for the fiscal year ending March 31, 20173e lecture et adoption du projet de loi C-9, Loi portant octroi à Sa Majesté de crédits pour l'administration publique fédérale pendant l'exercice se terminant le 31 mars 2017\n",
      "3rd reading and adoption of Bill C-8, An Act for granting to Her Majesty certain sums of money for the federal public administration for the fiscal year ending March 31, 20163e lecture et adoption du projet de loi C-8, Loi portant octroi à Sa Majesté de crédits pour l'administration publique fédérale pendant l'exercice se terminant le 31 mars 2016\n",
      "3rd reading and adoption of Bill C-3, An Act for granting to Her Majesty certain sums of money for the federal public administration for the financial year ending March 31, 20163e lecture et adoption du projet de loi C-3, Loi portant octroi à Sa Majesté de crédits pour l'administration publique fédérale pendant l'exercice se terminant le 31 mars 2016\n"
     ]
    }
   ],
   "source": [
    "for event in events:\n",
    "    if '3rd reading' in event.description:\n",
    "        print(event.description)"
   ]
  },
  {
   "cell_type": "code",
   "execution_count": 129,
   "metadata": {
    "collapsed": false
   },
   "outputs": [],
   "source": [
    "events_filtered = Event.query.filter(Event.description.contains('3rd reading'))"
   ]
  },
  {
   "cell_type": "code",
   "execution_count": 135,
   "metadata": {
    "collapsed": false
   },
   "outputs": [
    {
     "name": "stdout",
     "output_type": "stream",
     "text": [
      "9\n",
      "8\n",
      "3\n"
     ]
    }
   ],
   "source": [
    "for event in events_filtered:\n",
    "    print(event.bill_id)"
   ]
  },
  {
   "cell_type": "code",
   "execution_count": 145,
   "metadata": {
    "collapsed": false
   },
   "outputs": [
    {
     "ename": "AttributeError",
     "evalue": "mapper",
     "output_type": "error",
     "traceback": [
      "\u001b[0;31m---------------------------------------------------------------------------\u001b[0m",
      "\u001b[0;31mAttributeError\u001b[0m                            Traceback (most recent call last)",
      "\u001b[0;32m<ipython-input-145-0aa95adc84e9>\u001b[0m in \u001b[0;36m<module>\u001b[0;34m()\u001b[0m\n\u001b[0;32m----> 1\u001b[0;31m \u001b[0mvotes\u001b[0m \u001b[0;34m=\u001b[0m \u001b[0mVote\u001b[0m\u001b[0;34m.\u001b[0m\u001b[0mquery\u001b[0m\u001b[0;34m.\u001b[0m\u001b[0mjoin\u001b[0m\u001b[0;34m(\u001b[0m\u001b[0mEvent\u001b[0m\u001b[0;34m.\u001b[0m\u001b[0mdescription\u001b[0m\u001b[0;34m,\u001b[0m\u001b[0mVote\u001b[0m\u001b[0;34m.\u001b[0m\u001b[0mevent_id\u001b[0m\u001b[0;34m==\u001b[0m\u001b[0mEvent\u001b[0m\u001b[0;34m.\u001b[0m\u001b[0mid\u001b[0m\u001b[0;34m)\u001b[0m\u001b[0;34m\u001b[0m\u001b[0m\n\u001b[0m",
      "\u001b[0;32m/Users/shayneufeld/anaconda/lib/python3.5/site-packages/sqlalchemy/orm/query.py\u001b[0m in \u001b[0;36mjoin\u001b[0;34m(self, *props, **kwargs)\u001b[0m\n\u001b[1;32m   1944\u001b[0m         return self._join(props,\n\u001b[1;32m   1945\u001b[0m                           \u001b[0mouterjoin\u001b[0m\u001b[0;34m=\u001b[0m\u001b[0misouter\u001b[0m\u001b[0;34m,\u001b[0m \u001b[0mcreate_aliases\u001b[0m\u001b[0;34m=\u001b[0m\u001b[0maliased\u001b[0m\u001b[0;34m,\u001b[0m\u001b[0;34m\u001b[0m\u001b[0m\n\u001b[0;32m-> 1946\u001b[0;31m                           from_joinpoint=from_joinpoint)\n\u001b[0m\u001b[1;32m   1947\u001b[0m \u001b[0;34m\u001b[0m\u001b[0m\n\u001b[1;32m   1948\u001b[0m     \u001b[0;32mdef\u001b[0m \u001b[0mouterjoin\u001b[0m\u001b[0;34m(\u001b[0m\u001b[0mself\u001b[0m\u001b[0;34m,\u001b[0m \u001b[0;34m*\u001b[0m\u001b[0mprops\u001b[0m\u001b[0;34m,\u001b[0m \u001b[0;34m**\u001b[0m\u001b[0mkwargs\u001b[0m\u001b[0;34m)\u001b[0m\u001b[0;34m:\u001b[0m\u001b[0;34m\u001b[0m\u001b[0m\n",
      "\u001b[0;32m<string>\u001b[0m in \u001b[0;36m_join\u001b[0;34m(self, keys, outerjoin, create_aliases, from_joinpoint)\u001b[0m\n",
      "\u001b[0;32m/Users/shayneufeld/anaconda/lib/python3.5/site-packages/sqlalchemy/orm/base.py\u001b[0m in \u001b[0;36mgenerate\u001b[0;34m(fn, *args, **kw)\u001b[0m\n\u001b[1;32m    199\u001b[0m         \u001b[0;32mfor\u001b[0m \u001b[0massertion\u001b[0m \u001b[0;32min\u001b[0m \u001b[0massertions\u001b[0m\u001b[0;34m:\u001b[0m\u001b[0;34m\u001b[0m\u001b[0m\n\u001b[1;32m    200\u001b[0m             \u001b[0massertion\u001b[0m\u001b[0;34m(\u001b[0m\u001b[0mself\u001b[0m\u001b[0;34m,\u001b[0m \u001b[0mfn\u001b[0m\u001b[0;34m.\u001b[0m\u001b[0m__name__\u001b[0m\u001b[0;34m)\u001b[0m\u001b[0;34m\u001b[0m\u001b[0m\n\u001b[0;32m--> 201\u001b[0;31m         \u001b[0mfn\u001b[0m\u001b[0;34m(\u001b[0m\u001b[0mself\u001b[0m\u001b[0;34m,\u001b[0m \u001b[0;34m*\u001b[0m\u001b[0margs\u001b[0m\u001b[0;34m[\u001b[0m\u001b[0;36m1\u001b[0m\u001b[0;34m:\u001b[0m\u001b[0;34m]\u001b[0m\u001b[0;34m,\u001b[0m \u001b[0;34m**\u001b[0m\u001b[0mkw\u001b[0m\u001b[0;34m)\u001b[0m\u001b[0;34m\u001b[0m\u001b[0m\n\u001b[0m\u001b[1;32m    202\u001b[0m         \u001b[0;32mreturn\u001b[0m \u001b[0mself\u001b[0m\u001b[0;34m\u001b[0m\u001b[0m\n\u001b[1;32m    203\u001b[0m     \u001b[0;32mreturn\u001b[0m \u001b[0mgenerate\u001b[0m\u001b[0;34m\u001b[0m\u001b[0m\n",
      "\u001b[0;32m/Users/shayneufeld/anaconda/lib/python3.5/site-packages/sqlalchemy/orm/query.py\u001b[0m in \u001b[0;36m_join\u001b[0;34m(self, keys, outerjoin, create_aliases, from_joinpoint)\u001b[0m\n\u001b[1;32m   2050\u001b[0m                         \u001b[0mright_entity\u001b[0m \u001b[0;34m=\u001b[0m \u001b[0mof_type\u001b[0m\u001b[0;34m\u001b[0m\u001b[0m\n\u001b[1;32m   2051\u001b[0m                     \u001b[0;32melse\u001b[0m\u001b[0;34m:\u001b[0m\u001b[0;34m\u001b[0m\u001b[0m\n\u001b[0;32m-> 2052\u001b[0;31m                         \u001b[0mright_entity\u001b[0m \u001b[0;34m=\u001b[0m \u001b[0monclause\u001b[0m\u001b[0;34m.\u001b[0m\u001b[0mproperty\u001b[0m\u001b[0;34m.\u001b[0m\u001b[0mmapper\u001b[0m\u001b[0;34m\u001b[0m\u001b[0m\n\u001b[0m\u001b[1;32m   2053\u001b[0m \u001b[0;34m\u001b[0m\u001b[0m\n\u001b[1;32m   2054\u001b[0m                 \u001b[0mleft_entity\u001b[0m \u001b[0;34m=\u001b[0m \u001b[0monclause\u001b[0m\u001b[0;34m.\u001b[0m\u001b[0m_parententity\u001b[0m\u001b[0;34m\u001b[0m\u001b[0m\n",
      "\u001b[0;32m/Users/shayneufeld/anaconda/lib/python3.5/site-packages/sqlalchemy/util/langhelpers.py\u001b[0m in \u001b[0;36m__getattr__\u001b[0;34m(self, key)\u001b[0m\n\u001b[1;32m    838\u001b[0m             \u001b[0;32mreturn\u001b[0m \u001b[0moneshot\u001b[0m\u001b[0;34m\u001b[0m\u001b[0m\n\u001b[1;32m    839\u001b[0m         \u001b[0;32melse\u001b[0m\u001b[0;34m:\u001b[0m\u001b[0;34m\u001b[0m\u001b[0m\n\u001b[0;32m--> 840\u001b[0;31m             \u001b[0;32mreturn\u001b[0m \u001b[0mself\u001b[0m\u001b[0;34m.\u001b[0m\u001b[0m_fallback_getattr\u001b[0m\u001b[0;34m(\u001b[0m\u001b[0mkey\u001b[0m\u001b[0;34m)\u001b[0m\u001b[0;34m\u001b[0m\u001b[0m\n\u001b[0m\u001b[1;32m    841\u001b[0m \u001b[0;34m\u001b[0m\u001b[0m\n\u001b[1;32m    842\u001b[0m \u001b[0;34m\u001b[0m\u001b[0m\n",
      "\u001b[0;32m/Users/shayneufeld/anaconda/lib/python3.5/site-packages/sqlalchemy/util/langhelpers.py\u001b[0m in \u001b[0;36m_fallback_getattr\u001b[0;34m(self, key)\u001b[0m\n\u001b[1;32m    816\u001b[0m \u001b[0;34m\u001b[0m\u001b[0m\n\u001b[1;32m    817\u001b[0m     \u001b[0;32mdef\u001b[0m \u001b[0m_fallback_getattr\u001b[0m\u001b[0;34m(\u001b[0m\u001b[0mself\u001b[0m\u001b[0;34m,\u001b[0m \u001b[0mkey\u001b[0m\u001b[0;34m)\u001b[0m\u001b[0;34m:\u001b[0m\u001b[0;34m\u001b[0m\u001b[0m\n\u001b[0;32m--> 818\u001b[0;31m         \u001b[0;32mraise\u001b[0m \u001b[0mAttributeError\u001b[0m\u001b[0;34m(\u001b[0m\u001b[0mkey\u001b[0m\u001b[0;34m)\u001b[0m\u001b[0;34m\u001b[0m\u001b[0m\n\u001b[0m\u001b[1;32m    819\u001b[0m \u001b[0;34m\u001b[0m\u001b[0m\n\u001b[1;32m    820\u001b[0m     \u001b[0;32mdef\u001b[0m \u001b[0m__getattr__\u001b[0m\u001b[0;34m(\u001b[0m\u001b[0mself\u001b[0m\u001b[0;34m,\u001b[0m \u001b[0mkey\u001b[0m\u001b[0;34m)\u001b[0m\u001b[0;34m:\u001b[0m\u001b[0;34m\u001b[0m\u001b[0m\n",
      "\u001b[0;31mAttributeError\u001b[0m: mapper"
     ]
    }
   ],
   "source": [
    "votes = Vote.query.join(Event.description,Vote.event_id==Event.id)"
   ]
  },
  {
   "cell_type": "code",
   "execution_count": 132,
   "metadata": {
    "collapsed": false
   },
   "outputs": [
    {
     "data": {
      "text/plain": [
       "<models.Event at 0x105e0deb8>"
      ]
     },
     "execution_count": 132,
     "metadata": {},
     "output_type": "execute_result"
    }
   ],
   "source": [
    "id"
   ]
  }
 ],
 "metadata": {
  "anaconda-cloud": {},
  "kernelspec": {
   "display_name": "Python [conda root]",
   "language": "python",
   "name": "conda-root-py"
  },
  "language_info": {
   "codemirror_mode": {
    "name": "ipython",
    "version": 3
   },
   "file_extension": ".py",
   "mimetype": "text/x-python",
   "name": "python",
   "nbconvert_exporter": "python",
   "pygments_lexer": "ipython3",
   "version": "3.5.2"
  }
 },
 "nbformat": 4,
 "nbformat_minor": 1
}
