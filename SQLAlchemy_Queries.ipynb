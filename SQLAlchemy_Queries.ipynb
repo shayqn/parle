{
 "cells": [
  {
   "cell_type": "markdown",
   "metadata": {},
   "source": [
    "# Converting the queries to flask-sqlalchemy"
   ]
  },
  {
   "cell_type": "code",
   "execution_count": 2,
   "metadata": {
    "collapsed": false
   },
   "outputs": [
    {
     "name": "stderr",
     "output_type": "stream",
     "text": [
      "/Users/shayneufeld/anaconda/lib/python3.5/site-packages/flask_sqlalchemy/__init__.py:839: FSADeprecationWarning: SQLALCHEMY_TRACK_MODIFICATIONS adds significant overhead and will be disabled by default in the future.  Set it to True or False to suppress this warning.\n",
      "  'SQLALCHEMY_TRACK_MODIFICATIONS adds significant overhead and '\n"
     ]
    }
   ],
   "source": [
    "import sys\n",
    "import sys\n",
    "sys.path.append('/Users/shayneufeld/GitHub/parle')\n",
    "from models import db\n",
    "from models import *\n",
    "import numpy as np\n",
    "import pandas as pd"
   ]
  },
  {
   "cell_type": "markdown",
   "metadata": {},
   "source": [
    "# get_pol_json \n",
    "def get_pol_json(politician_id):\n",
    "    \"\"\"\n",
    "    Returns all the data related to a single specific politician when a user requests their profile.\n",
    "    Anything we want in the profile has to be sent from here in JSON, so this is where all the magic happens.\n",
    "\n",
    "    Related React.js component: <ProfileBox />\n",
    "\n",
    "    :param politician_id: id of the single politician requested\n",
    "    :return: a jsonify'd dictionary with all the desired profile information\n",
    "    \"\"\"\n",
    "    # Get the cursor\n",
    "    cursor = get_cursor()\n",
    "\n",
    "    # Build our select query using data from bills_membervote, bills_votequestion, and bills_bill\n",
    "    # We are currently only interested in the final vote, so the bill description is used to identify those\n",
    "    # Add any parameters using (%s) or (%(name)s). More information below.\n",
    "    query = (\n",
    "        \"SELECT m.votequestion_id,m.vote,b.number,b.name_en,b.law,b.short_title_en, v.session_id \"\n",
    "        \"FROM bills_membervote m, bills_votequestion v, bills_bill b \"\n",
    "        \"WHERE m.politician_id = (%s) \"\n",
    "        \"AND v.id = m.votequestion_id \"\n",
    "        \"AND v.description_en LIKE (\\'%%Bill be now read a third time and do pass%%\\') \"\n",
    "        \"AND b.id = v.bill_id \"\n",
    "        \"ORDER BY v.date DESC\"\n",
    "    )\n",
    "    # If any parameters are used in the above query, insert them in the parameters tuple\n",
    "    # Insert parameters in the order used in the query unless using %(name)s placeholders\n",
    "    # see http://initd.org/psycopg/docs/usage.html#passing-parameters-to-sql-queries for more information\n",
    "    parameters = (politician_id,)\n",
    "\n",
    "    # Execute query\n",
    "    cursor.execute(query, parameters)\n",
    "\n",
    "    # Fetch results\n",
    "    pol_results = cursor.fetchall()\n",
    "\n",
    "    # return a JSON response to React (includes header, no extra work needed)\n",
    "    return jsonify(votes=pol_results)"
   ]
  },
  {
   "cell_type": "markdown",
   "metadata": {},
   "source": [
    "\n",
    "in postgres DB              | in new db\n",
    "                            |\n",
    "1 member vote_question id   | vote.key\n",
    "2 member vote               | vote.vote\n",
    "3 bill number               | bill.id or bill.number?\n",
    "4 bill name                 | bill.slug\n",
    "5 bill law                  | bill.number\n",
    "6 bill title                | bill.short_title\n",
    "7 vote session id           | event.session_id\n",
    "\n",
    "from votes.mp/votes/1:\n",
    "    {\n",
    "      \"law\": false, \n",
    "      \"name_en\": \"An Act to protect insignia of military orders, decorations and medals of cultural significance for future generations\", \n",
    "      \"number\": \"C-473\", \n",
    "      \"session_id\": \"40-3\", \n",
    "      \"short_title_en\": \"Protection of Insignia of Military Orders, Decorations and Medals Act\", \n",
    "      \"vote\": \"Y\", \n",
    "      \"votequestion_id\": 1089\n",
    "    }, "
   ]
  },
  {
   "cell_type": "code",
   "execution_count": 61,
   "metadata": {
    "collapsed": true
   },
   "outputs": [],
   "source": [
    "def get_pol_json(politician_id):\n",
    "    #m.votequestion_id,m.vote,b.number,b.name_en,b.law,b.short_title_en, v.session_id\n",
    "    final_votes = Vote.query.filter_by(member_id=politician_id).filter(Vote.event.has(final=True)).all()\n",
    "    response_array = []\n",
    "    for vote in final_votes:\n",
    "        vote_dictionary = dict()\n",
    "        vote_dictionary['law'] = vote.event.decision\n",
    "        vote_dictionary['name_en'] = vote.event.bill.title_en\n",
    "        vote_dictionary['number'] = vote.event.bill.number\n",
    "        vote_dictionary['session_id'] = vote.event.bill.session.id\n",
    "        vote_dictionary['short_name_en'] = vote.event.bill.short_title_en\n",
    "        vote_dictionary['vote'] = vote.vote\n",
    "        vote_dictionary['vote_question_id'] = vote.key\n",
    "\n",
    "        response_array.append(vote_dictionary)\n",
    "    return response_array"
   ]
  },
  {
   "cell_type": "code",
   "execution_count": 218,
   "metadata": {
    "collapsed": false
   },
   "outputs": [],
   "source": [
    "def get_bill_json(bill_id):\n",
    "    votes = Vote.query.filter(Vote.event.has(final=True))\n",
    "    parties = []\n",
    "    for vote in votes:\n",
    "        parties.append(vote.member.caucus.name)\n",
    "\n",
    "    parties = np.unique(parties)\n",
    "    vote_types = ['Yes','No','Abstain']\n",
    "    \n",
    "    df = pd.DataFrame(columns=vote_types,index=parties)\n",
    "    df.loc[:,:] = 0\n",
    "    for vote in votes:\n",
    "        if vote.event.bill.id == bill_id:\n",
    "            party = vote.member.caucus.name\n",
    "            if vote.vote == 'Yea':\n",
    "                df.loc[party,'Yes'] += 1\n",
    "            elif vote.vote == 'Nay':\n",
    "                df.loc[party,'No'] += 1\n",
    "            else:\n",
    "                df.loc[party,'Abstain'] += 1\n",
    "\n",
    "    for col in df:            \n",
    "        df.loc['Total',col] = df[col].sum()\n",
    "    \n",
    "    return df"
   ]
  },
  {
   "cell_type": "code",
   "execution_count": 219,
   "metadata": {
    "collapsed": false
   },
   "outputs": [
    {
     "data": {
      "text/html": [
       "<div>\n",
       "<table border=\"1\" class=\"dataframe\">\n",
       "  <thead>\n",
       "    <tr style=\"text-align: right;\">\n",
       "      <th></th>\n",
       "      <th>Yes</th>\n",
       "      <th>No</th>\n",
       "      <th>Abstain</th>\n",
       "    </tr>\n",
       "  </thead>\n",
       "  <tbody>\n",
       "    <tr>\n",
       "      <th>Bloc Québécois</th>\n",
       "      <td>0</td>\n",
       "      <td>10</td>\n",
       "      <td>0</td>\n",
       "    </tr>\n",
       "    <tr>\n",
       "      <th>Conservative</th>\n",
       "      <td>0</td>\n",
       "      <td>90</td>\n",
       "      <td>0</td>\n",
       "    </tr>\n",
       "    <tr>\n",
       "      <th>Green Party</th>\n",
       "      <td>0</td>\n",
       "      <td>1</td>\n",
       "      <td>0</td>\n",
       "    </tr>\n",
       "    <tr>\n",
       "      <th>Liberal</th>\n",
       "      <td>174</td>\n",
       "      <td>0</td>\n",
       "      <td>0</td>\n",
       "    </tr>\n",
       "    <tr>\n",
       "      <th>NDP</th>\n",
       "      <td>0</td>\n",
       "      <td>41</td>\n",
       "      <td>0</td>\n",
       "    </tr>\n",
       "    <tr>\n",
       "      <th>Total</th>\n",
       "      <td>174</td>\n",
       "      <td>142</td>\n",
       "      <td>0</td>\n",
       "    </tr>\n",
       "  </tbody>\n",
       "</table>\n",
       "</div>"
      ],
      "text/plain": [
       "                Yes   No Abstain\n",
       "Bloc Québécois    0   10       0\n",
       "Conservative      0   90       0\n",
       "Green Party       0    1       0\n",
       "Liberal         174    0       0\n",
       "NDP               0   41       0\n",
       "Total           174  142       0"
      ]
     },
     "execution_count": 219,
     "metadata": {},
     "output_type": "execute_result"
    }
   ],
   "source": [
    "test = get_pol_json(1)\n",
    "test = get_bill_json(9)\n",
    "test"
   ]
  }
 ],
 "metadata": {
  "anaconda-cloud": {},
  "kernelspec": {
   "display_name": "Python [conda root]",
   "language": "python",
   "name": "conda-root-py"
  },
  "language_info": {
   "codemirror_mode": {
    "name": "ipython",
    "version": 3
   },
   "file_extension": ".py",
   "mimetype": "text/x-python",
   "name": "python",
   "nbconvert_exporter": "python",
   "pygments_lexer": "ipython3",
   "version": "3.5.2"
  }
 },
 "nbformat": 4,
 "nbformat_minor": 1
}
